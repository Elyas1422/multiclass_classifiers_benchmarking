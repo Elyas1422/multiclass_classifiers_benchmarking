{
 "cells": [
  {
   "cell_type": "code",
   "execution_count": 21,
   "metadata": {
    "executionInfo": {
     "elapsed": 1842,
     "status": "ok",
     "timestamp": 1702229864497,
     "user": {
      "displayName": "Ammar Almajed",
      "userId": "02912955514166358537"
     },
     "user_tz": -180
    },
    "id": "oF1vkucYWaXz"
   },
   "outputs": [],
   "source": [
    "import xgboost as xgb\n",
    "from sklearn.metrics import f1_score\n",
    "import pandas as pd\n",
    "import numpy as np\n",
    "import matplotlib.pyplot as plt\n",
    "import seaborn as sns\n",
    "from IPython.display import display\n",
    "import re\n",
    "from sklearn.metrics import accuracy_score\n",
    "from sklearn.model_selection import train_test_split\n",
    "from sklearn.preprocessing import StandardScaler\n",
    "import sklearn.metrics\n",
    "from IPython.display import display\n",
    "from sklearn.model_selection import GridSearchCV\n",
    "from sklearn.metrics import accuracy_score, precision_score, recall_score, f1_score, confusion_matrix,make_scorer,ConfusionMatrixDisplay,classification_report\n",
    "from scipy.stats import entropy\n",
    "%matplotlib inline\n",
    "from sklearn.ensemble import RandomForestClassifier\n"
   ]
  },
  {
   "cell_type": "code",
   "execution_count": 22,
   "metadata": {
    "executionInfo": {
     "elapsed": 6,
     "status": "ok",
     "timestamp": 1702229892646,
     "user": {
      "displayName": "Ammar Almajed",
      "userId": "02912955514166358537"
     },
     "user_tz": -180
    },
    "id": "rxSmSmHPvyfE"
   },
   "outputs": [],
   "source": [
    "MY_PC = '.'\n",
    "MY_DRIVE = '/content/drive/MyDrive/KFUPM/ICS485 Machine Learning/machine-learning'\n",
    "\n",
    "\n",
    "working_on = MY_PC"
   ]
  },
  {
   "cell_type": "markdown",
   "metadata": {
    "id": "RZExDGcxYI30"
   },
   "source": [
    "# Reading the data"
   ]
  },
  {
   "cell_type": "code",
   "execution_count": 23,
   "metadata": {
    "executionInfo": {
     "elapsed": 1864,
     "status": "ok",
     "timestamp": 1702229894505,
     "user": {
      "displayName": "Ammar Almajed",
      "userId": "02912955514166358537"
     },
     "user_tz": -180
    },
    "id": "hE7yvYT5W6QA"
   },
   "outputs": [],
   "source": [
    "train_data = pd.read_csv(working_on + \"/preprocessed_data/train_data.csv\")\n",
    "val_data = pd.read_csv(working_on + \"/preprocessed_data/val_data.csv\")\n",
    "test_data = pd.read_csv(working_on + \"/preprocessed_data/test_data.csv\")"
   ]
  },
  {
   "cell_type": "code",
   "execution_count": 24,
   "metadata": {
    "colab": {
     "base_uri": "https://localhost:8080/",
     "height": 273
    },
    "executionInfo": {
     "elapsed": 6,
     "status": "ok",
     "timestamp": 1702229894505,
     "user": {
      "displayName": "Ammar Almajed",
      "userId": "02912955514166358537"
     },
     "user_tz": -180
    },
    "id": "bhY7BEb9XRw_",
    "outputId": "a091921a-3694-43fe-b83f-27c3ce4ffe86"
   },
   "outputs": [
    {
     "data": {
      "text/html": [
       "<div>\n",
       "<style scoped>\n",
       "    .dataframe tbody tr th:only-of-type {\n",
       "        vertical-align: middle;\n",
       "    }\n",
       "\n",
       "    .dataframe tbody tr th {\n",
       "        vertical-align: top;\n",
       "    }\n",
       "\n",
       "    .dataframe thead th {\n",
       "        text-align: right;\n",
       "    }\n",
       "</style>\n",
       "<table border=\"1\" class=\"dataframe\">\n",
       "  <thead>\n",
       "    <tr style=\"text-align: right;\">\n",
       "      <th></th>\n",
       "      <th>X1</th>\n",
       "      <th>X2</th>\n",
       "      <th>X3</th>\n",
       "      <th>X4</th>\n",
       "      <th>X5</th>\n",
       "      <th>X6</th>\n",
       "      <th>X7</th>\n",
       "      <th>X8</th>\n",
       "      <th>X9</th>\n",
       "      <th>X10</th>\n",
       "      <th>X13_ FC11</th>\n",
       "      <th>X13_ FC13</th>\n",
       "      <th>X13_ FC14</th>\n",
       "      <th>X14_ CA23</th>\n",
       "      <th>X14_ CA50</th>\n",
       "      <th>X14_ CA59</th>\n",
       "      <th>Y</th>\n",
       "    </tr>\n",
       "  </thead>\n",
       "  <tbody>\n",
       "    <tr>\n",
       "      <th>0</th>\n",
       "      <td>-1.520449</td>\n",
       "      <td>-1.428585</td>\n",
       "      <td>1.530877</td>\n",
       "      <td>-1.162058</td>\n",
       "      <td>-0.836349</td>\n",
       "      <td>-0.535183</td>\n",
       "      <td>-1.042610</td>\n",
       "      <td>-2.433676</td>\n",
       "      <td>-0.612921</td>\n",
       "      <td>-0.707368</td>\n",
       "      <td>0.0</td>\n",
       "      <td>0.0</td>\n",
       "      <td>1.0</td>\n",
       "      <td>0.0</td>\n",
       "      <td>0.0</td>\n",
       "      <td>0.0</td>\n",
       "      <td>Mercedes</td>\n",
       "    </tr>\n",
       "    <tr>\n",
       "      <th>1</th>\n",
       "      <td>0.019717</td>\n",
       "      <td>-0.578489</td>\n",
       "      <td>1.649464</td>\n",
       "      <td>-0.522458</td>\n",
       "      <td>-0.204228</td>\n",
       "      <td>-0.694313</td>\n",
       "      <td>1.210780</td>\n",
       "      <td>-1.719345</td>\n",
       "      <td>-2.155114</td>\n",
       "      <td>-0.453929</td>\n",
       "      <td>0.0</td>\n",
       "      <td>1.0</td>\n",
       "      <td>0.0</td>\n",
       "      <td>0.0</td>\n",
       "      <td>0.0</td>\n",
       "      <td>0.0</td>\n",
       "      <td>BMW</td>\n",
       "    </tr>\n",
       "    <tr>\n",
       "      <th>2</th>\n",
       "      <td>-1.149807</td>\n",
       "      <td>0.019739</td>\n",
       "      <td>0.226418</td>\n",
       "      <td>-0.658669</td>\n",
       "      <td>-0.263490</td>\n",
       "      <td>-0.870256</td>\n",
       "      <td>1.034734</td>\n",
       "      <td>0.185537</td>\n",
       "      <td>-0.753121</td>\n",
       "      <td>-0.819252</td>\n",
       "      <td>0.0</td>\n",
       "      <td>0.0</td>\n",
       "      <td>1.0</td>\n",
       "      <td>0.0</td>\n",
       "      <td>0.0</td>\n",
       "      <td>0.0</td>\n",
       "      <td>Honda</td>\n",
       "    </tr>\n",
       "    <tr>\n",
       "      <th>3</th>\n",
       "      <td>-1.708274</td>\n",
       "      <td>-0.415010</td>\n",
       "      <td>1.530877</td>\n",
       "      <td>-0.984392</td>\n",
       "      <td>-0.540042</td>\n",
       "      <td>-1.025183</td>\n",
       "      <td>1.316407</td>\n",
       "      <td>-1.147880</td>\n",
       "      <td>-1.944815</td>\n",
       "      <td>-0.890957</td>\n",
       "      <td>0.0</td>\n",
       "      <td>0.0</td>\n",
       "      <td>1.0</td>\n",
       "      <td>0.0</td>\n",
       "      <td>0.0</td>\n",
       "      <td>0.0</td>\n",
       "      <td>Honda</td>\n",
       "    </tr>\n",
       "    <tr>\n",
       "      <th>4</th>\n",
       "      <td>-1.034608</td>\n",
       "      <td>-0.534895</td>\n",
       "      <td>1.175115</td>\n",
       "      <td>0.667908</td>\n",
       "      <td>1.711888</td>\n",
       "      <td>-0.910489</td>\n",
       "      <td>1.210780</td>\n",
       "      <td>-1.100258</td>\n",
       "      <td>-1.734516</td>\n",
       "      <td>-0.234488</td>\n",
       "      <td>0.0</td>\n",
       "      <td>0.0</td>\n",
       "      <td>1.0</td>\n",
       "      <td>1.0</td>\n",
       "      <td>0.0</td>\n",
       "      <td>0.0</td>\n",
       "      <td>Mercedes</td>\n",
       "    </tr>\n",
       "  </tbody>\n",
       "</table>\n",
       "</div>"
      ],
      "text/plain": [
       "         X1        X2        X3        X4        X5        X6        X7  \\\n",
       "0 -1.520449 -1.428585  1.530877 -1.162058 -0.836349 -0.535183 -1.042610   \n",
       "1  0.019717 -0.578489  1.649464 -0.522458 -0.204228 -0.694313  1.210780   \n",
       "2 -1.149807  0.019739  0.226418 -0.658669 -0.263490 -0.870256  1.034734   \n",
       "3 -1.708274 -0.415010  1.530877 -0.984392 -0.540042 -1.025183  1.316407   \n",
       "4 -1.034608 -0.534895  1.175115  0.667908  1.711888 -0.910489  1.210780   \n",
       "\n",
       "         X8        X9       X10  X13_ FC11  X13_ FC13  X13_ FC14  X14_ CA23  \\\n",
       "0 -2.433676 -0.612921 -0.707368        0.0        0.0        1.0        0.0   \n",
       "1 -1.719345 -2.155114 -0.453929        0.0        1.0        0.0        0.0   \n",
       "2  0.185537 -0.753121 -0.819252        0.0        0.0        1.0        0.0   \n",
       "3 -1.147880 -1.944815 -0.890957        0.0        0.0        1.0        0.0   \n",
       "4 -1.100258 -1.734516 -0.234488        0.0        0.0        1.0        1.0   \n",
       "\n",
       "   X14_ CA50  X14_ CA59         Y  \n",
       "0        0.0        0.0  Mercedes  \n",
       "1        0.0        0.0       BMW  \n",
       "2        0.0        0.0     Honda  \n",
       "3        0.0        0.0     Honda  \n",
       "4        0.0        0.0  Mercedes  "
      ]
     },
     "execution_count": 24,
     "metadata": {},
     "output_type": "execute_result"
    }
   ],
   "source": [
    "train_data.head()"
   ]
  },
  {
   "cell_type": "code",
   "execution_count": 25,
   "metadata": {
    "colab": {
     "base_uri": "https://localhost:8080/",
     "height": 1000
    },
    "executionInfo": {
     "elapsed": 1066,
     "status": "ok",
     "timestamp": 1702229895567,
     "user": {
      "displayName": "Ammar Almajed",
      "userId": "02912955514166358537"
     },
     "user_tz": -180
    },
    "id": "BLFUCv8hTcdM",
    "outputId": "54126cd6-8c54-48d1-bd72-8bf63d509fd1"
   },
   "outputs": [
    {
     "data": {
      "text/html": [
       "<div>\n",
       "<style scoped>\n",
       "    .dataframe tbody tr th:only-of-type {\n",
       "        vertical-align: middle;\n",
       "    }\n",
       "\n",
       "    .dataframe tbody tr th {\n",
       "        vertical-align: top;\n",
       "    }\n",
       "\n",
       "    .dataframe thead th {\n",
       "        text-align: right;\n",
       "    }\n",
       "</style>\n",
       "<table border=\"1\" class=\"dataframe\">\n",
       "  <thead>\n",
       "    <tr style=\"text-align: right;\">\n",
       "      <th></th>\n",
       "      <th>Column</th>\n",
       "      <th>Non-Null Count</th>\n",
       "      <th>Dtype</th>\n",
       "      <th>Unique Values</th>\n",
       "    </tr>\n",
       "  </thead>\n",
       "  <tbody>\n",
       "    <tr>\n",
       "      <th>Y</th>\n",
       "      <td>Y</td>\n",
       "      <td>6714</td>\n",
       "      <td>object</td>\n",
       "      <td>6</td>\n",
       "    </tr>\n",
       "    <tr>\n",
       "      <th>X1</th>\n",
       "      <td>X1</td>\n",
       "      <td>6714</td>\n",
       "      <td>float64</td>\n",
       "      <td>1393</td>\n",
       "    </tr>\n",
       "    <tr>\n",
       "      <th>X2</th>\n",
       "      <td>X2</td>\n",
       "      <td>6714</td>\n",
       "      <td>float64</td>\n",
       "      <td>2763</td>\n",
       "    </tr>\n",
       "    <tr>\n",
       "      <th>X3</th>\n",
       "      <td>X3</td>\n",
       "      <td>6714</td>\n",
       "      <td>float64</td>\n",
       "      <td>48</td>\n",
       "    </tr>\n",
       "    <tr>\n",
       "      <th>X4</th>\n",
       "      <td>X4</td>\n",
       "      <td>6714</td>\n",
       "      <td>float64</td>\n",
       "      <td>657</td>\n",
       "    </tr>\n",
       "    <tr>\n",
       "      <th>X5</th>\n",
       "      <td>X5</td>\n",
       "      <td>6714</td>\n",
       "      <td>float64</td>\n",
       "      <td>306</td>\n",
       "    </tr>\n",
       "    <tr>\n",
       "      <th>X6</th>\n",
       "      <td>X6</td>\n",
       "      <td>6714</td>\n",
       "      <td>float64</td>\n",
       "      <td>3077</td>\n",
       "    </tr>\n",
       "    <tr>\n",
       "      <th>X7</th>\n",
       "      <td>X7</td>\n",
       "      <td>6714</td>\n",
       "      <td>float64</td>\n",
       "      <td>167</td>\n",
       "    </tr>\n",
       "    <tr>\n",
       "      <th>X8</th>\n",
       "      <td>X8</td>\n",
       "      <td>6714</td>\n",
       "      <td>float64</td>\n",
       "      <td>131</td>\n",
       "    </tr>\n",
       "    <tr>\n",
       "      <th>X9</th>\n",
       "      <td>X9</td>\n",
       "      <td>6714</td>\n",
       "      <td>float64</td>\n",
       "      <td>243</td>\n",
       "    </tr>\n",
       "    <tr>\n",
       "      <th>X10</th>\n",
       "      <td>X10</td>\n",
       "      <td>6714</td>\n",
       "      <td>float64</td>\n",
       "      <td>3008</td>\n",
       "    </tr>\n",
       "    <tr>\n",
       "      <th>X13_ FC11</th>\n",
       "      <td>X13_ FC11</td>\n",
       "      <td>6714</td>\n",
       "      <td>float64</td>\n",
       "      <td>2</td>\n",
       "    </tr>\n",
       "    <tr>\n",
       "      <th>X13_ FC13</th>\n",
       "      <td>X13_ FC13</td>\n",
       "      <td>6714</td>\n",
       "      <td>float64</td>\n",
       "      <td>2</td>\n",
       "    </tr>\n",
       "    <tr>\n",
       "      <th>X13_ FC14</th>\n",
       "      <td>X13_ FC14</td>\n",
       "      <td>6714</td>\n",
       "      <td>float64</td>\n",
       "      <td>2</td>\n",
       "    </tr>\n",
       "    <tr>\n",
       "      <th>X14_ CA59</th>\n",
       "      <td>X14_ CA59</td>\n",
       "      <td>6714</td>\n",
       "      <td>float64</td>\n",
       "      <td>2</td>\n",
       "    </tr>\n",
       "    <tr>\n",
       "      <th>X14_ CA23</th>\n",
       "      <td>X14_ CA23</td>\n",
       "      <td>6714</td>\n",
       "      <td>float64</td>\n",
       "      <td>2</td>\n",
       "    </tr>\n",
       "    <tr>\n",
       "      <th>X14_ CA50</th>\n",
       "      <td>X14_ CA50</td>\n",
       "      <td>6714</td>\n",
       "      <td>float64</td>\n",
       "      <td>2</td>\n",
       "    </tr>\n",
       "  </tbody>\n",
       "</table>\n",
       "</div>"
      ],
      "text/plain": [
       "              Column  Non-Null Count    Dtype  Unique Values\n",
       "Y                  Y            6714   object              6\n",
       "X1                X1            6714  float64           1393\n",
       "X2                X2            6714  float64           2763\n",
       "X3                X3            6714  float64             48\n",
       "X4                X4            6714  float64            657\n",
       "X5                X5            6714  float64            306\n",
       "X6                X6            6714  float64           3077\n",
       "X7                X7            6714  float64            167\n",
       "X8                X8            6714  float64            131\n",
       "X9                X9            6714  float64            243\n",
       "X10              X10            6714  float64           3008\n",
       "X13_ FC11  X13_ FC11            6714  float64              2\n",
       "X13_ FC13  X13_ FC13            6714  float64              2\n",
       "X13_ FC14  X13_ FC14            6714  float64              2\n",
       "X14_ CA59  X14_ CA59            6714  float64              2\n",
       "X14_ CA23  X14_ CA23            6714  float64              2\n",
       "X14_ CA50  X14_ CA50            6714  float64              2"
      ]
     },
     "metadata": {},
     "output_type": "display_data"
    },
    {
     "data": {
      "image/png": "[encoded data removed]",
      "text/plain": [
       "<Figure size 1000x600 with 1 Axes>"
      ]
     },
     "metadata": {},
     "output_type": "display_data"
    }
   ],
   "source": [
    "\n",
    "def display_dataframe_summary(dataframe, sort_by='Column'):\n",
    "\n",
    "    summary = pd.DataFrame({\n",
    "        'Column': dataframe.columns,\n",
    "        'Non-Null Count': dataframe.notnull().sum(),\n",
    "        'Dtype': dataframe.dtypes,\n",
    "        'Unique Values': dataframe.nunique()\n",
    "    })\n",
    "\n",
    "    # Extracting numerical part from column names for sorting\n",
    "    summary['Sort Key'] = summary['Column'].apply(lambda x: int(re.search(r'\\d+', x).group()) if re.search(r'\\d+', x) else 0)\n",
    "\n",
    "    # Sorting the summary DataFrame\n",
    "    if sort_by == 'Column':\n",
    "        summary = summary.sort_values(by='Sort Key', ascending=True)\n",
    "    else:\n",
    "        summary = summary.sort_values(by=sort_by, ascending=True)\n",
    "\n",
    "    summary = summary.drop('Sort Key', axis=1)  # Remove the auxiliary sort key column\n",
    "\n",
    "    # Display the summary\n",
    "    display(summary)\n",
    "\n",
    "    # Plotting missing data\n",
    "    plt.figure(figsize=(10, 6))\n",
    "    sns.heatmap(dataframe.isnull(), yticklabels=False, cbar=False, cmap='viridis')\n",
    "    plt.title('Missing Data in DataFrame')\n",
    "    plt.show()\n",
    "\n",
    "# Call the function with your DataFrame\n",
    "display_dataframe_summary(train_data, sort_by='Column')\n"
   ]
  },
  {
   "cell_type": "code",
   "execution_count": 26,
   "metadata": {
    "colab": {
     "base_uri": "https://localhost:8080/"
    },
    "executionInfo": {
     "elapsed": 4,
     "status": "ok",
     "timestamp": 1702229895567,
     "user": {
      "displayName": "Ammar Almajed",
      "userId": "02912955514166358537"
     },
     "user_tz": -180
    },
    "id": "_x6WsNDnXjyH",
    "outputId": "28862138-bc67-412c-a5e5-2541d4269095"
   },
   "outputs": [
    {
     "name": "stdout",
     "output_type": "stream",
     "text": [
      "The classes is: ['Mercedes' 'BMW' 'Honda' 'Toyota' 'GMC' 'Ford']\n",
      "Number of classes: 6\n",
      "Index(['Y'], dtype='object')\n"
     ]
    }
   ],
   "source": [
    "classes = train_data[\"Y\"].unique()\n",
    "number_of_classes = train_data[\"Y\"].nunique()\n",
    "categorical_cols = train_data.select_dtypes(include=['object', 'category']).columns\n",
    "\n",
    "print(f\"The classes is: {classes}\")\n",
    "print(f\"Number of classes: {number_of_classes}\")\n",
    "print(categorical_cols)"
   ]
  },
  {
   "cell_type": "code",
   "execution_count": 27,
   "metadata": {
    "executionInfo": {
     "elapsed": 4,
     "status": "ok",
     "timestamp": 1702229895568,
     "user": {
      "displayName": "Ammar Almajed",
      "userId": "02912955514166358537"
     },
     "user_tz": -180
    },
    "id": "0HR9dHberiIV"
   },
   "outputs": [],
   "source": [
    "X_train = train_data.drop('Y', axis=1).to_numpy()\n",
    "y_train = pd.get_dummies(train_data['Y']).to_numpy()\n",
    "\n",
    "X_val = val_data.drop('Y', axis=1).to_numpy()\n",
    "y_val = pd.get_dummies(val_data['Y']).to_numpy()\n",
    "\n",
    "X_test = test_data.drop('Y', axis=1).to_numpy()\n",
    "y_test = pd.get_dummies(test_data['Y']).to_numpy()\n"
   ]
  },
  {
   "cell_type": "markdown",
   "metadata": {
    "id": "3NK-DFBJ1qHp"
   },
   "source": [
    "# Building The Active Model with xgboost"
   ]
  },
  {
   "cell_type": "code",
   "execution_count": 28,
   "metadata": {},
   "outputs": [],
   "source": [
    "# X_train = np.vstack([X_train, X_val])\n",
    "# y_train = np.concatenate((y_train, y_val), axis = 0)\n",
    "\n",
    "# # Split the data into a pool (unlabeled) and an initial labeled set\n",
    "# X_pool, X_initial, y_pool, y_initial = train_test_split(\n",
    "#     X_train, y_train, train_size=100, stratify=y_train, random_state=777\n",
    "# )\n",
    "\n",
    "# # model = xgb.XGBClassifier(n_estimators=1000, max_depth=7, learning_rate=0.1, random_state=777)\n",
    "# best_params= {'max_depth': 30, 'min_samples_leaf': 1, 'min_samples_split': 2, 'n_estimators': 200}\n",
    "# model = RandomForestClassifier(**best_params, random_state=777)\n",
    "\n",
    "# # Train the initial model on the labeled samples\n",
    "# model.fit(X_initial, y_initial)\n",
    "\n",
    "# # Number of samples to query in each iteration\n",
    "# query_size = 10\n",
    "\n",
    "# # Number of iterations\n",
    "# num_iterations = (len(X_pool) - len(X_initial)) // query_size\n",
    "\n",
    "# for i in range(num_iterations):\n",
    "#     # Calculate predicted probabilities for each class\n",
    "#     probas = model.predict_proba(X_pool)\n",
    "\n",
    "#     # Calculate entropy for each sample\n",
    "#     entropies = np.apply_along_axis(entropy, axis=1, arr=probas.T)\n",
    "\n",
    "#     # Select the top 'query_size' samples with highest entropy\n",
    "#     query_indices = np.argsort(entropies)[-query_size:]\n",
    "\n",
    "#     # Label the selected samples and remove them from the pool\n",
    "#     X_query = X_pool[query_indices]\n",
    "#     y_query = model.predict(X_query)\n",
    "\n",
    "#     X_pool = np.delete(X_pool, query_indices, axis=0)\n",
    "#     y_pool = np.delete(y_pool, query_indices)\n",
    "\n",
    "#     # Add the newly labeled samples to the initial set\n",
    "#     X_initial = np.vstack([X_initial, X_query])\n",
    "#     y_initial = np.concatenate([y_initial, y_query])\n",
    "\n",
    "#     # Retrain the model on the updated labeled set\n",
    "#     model.fit(X_initial, y_initial)"
   ]
  },
  {
   "cell_type": "code",
   "execution_count": 29,
   "metadata": {},
   "outputs": [
    {
     "name": "stdout",
     "output_type": "stream",
     "text": [
      "Original model performance: \n",
      "Training f1 score: 1.00\n",
      "Validation f1 score: 0.71\n",
      "Iteration 1 performance:\n",
      "Training f1 score: 1.00\n",
      "Validation f1 score: 0.70\n",
      "Iteration 2 performance:\n",
      "Training f1 score: 1.00\n",
      "Validation f1 score: 0.69\n",
      "Iteration 3 performance:\n",
      "Training f1 score: 1.00\n",
      "Validation f1 score: 0.70\n",
      "Iteration 4 performance:\n",
      "Training f1 score: 1.00\n",
      "Validation f1 score: 0.70\n",
      "Iteration 5 performance:\n",
      "Training f1 score: 1.00\n",
      "Validation f1 score: 0.70\n",
      "Iteration 6 performance:\n",
      "Training f1 score: 1.00\n",
      "Validation f1 score: 0.70\n",
      "Iteration 7 performance:\n",
      "Training f1 score: 1.00\n",
      "Validation f1 score: 0.70\n"
     ]
    },
    {
     "ename": "KeyboardInterrupt",
     "evalue": "",
     "output_type": "error",
     "traceback": [
      "\u001b[0;31m---------------------------------------------------------------------------\u001b[0m",
      "\u001b[0;31mKeyboardInterrupt\u001b[0m                         Traceback (most recent call last)",
      "Cell \u001b[0;32mIn[29], line 47\u001b[0m\n\u001b[1;32m     44\u001b[0m y_initial \u001b[38;5;241m=\u001b[39m np\u001b[38;5;241m.\u001b[39mconcatenate([y_initial, y_query])\n\u001b[1;32m     46\u001b[0m \u001b[38;5;66;03m# Retrain the model on the updated labeled set\u001b[39;00m\n\u001b[0;32m---> 47\u001b[0m \u001b[43mmodel\u001b[49m\u001b[38;5;241;43m.\u001b[39;49m\u001b[43mfit\u001b[49m\u001b[43m(\u001b[49m\u001b[43mX_initial\u001b[49m\u001b[43m,\u001b[49m\u001b[43m \u001b[49m\u001b[43my_initial\u001b[49m\u001b[43m)\u001b[49m\n\u001b[1;32m     49\u001b[0m \u001b[38;5;66;03m# Calculate f1 scores\u001b[39;00m\n\u001b[1;32m     50\u001b[0m training_f1 \u001b[38;5;241m=\u001b[39m f1_score(y_initial, model\u001b[38;5;241m.\u001b[39mpredict(X_initial), average\u001b[38;5;241m=\u001b[39m\u001b[38;5;124m'\u001b[39m\u001b[38;5;124mmicro\u001b[39m\u001b[38;5;124m'\u001b[39m)\n",
      "File \u001b[0;32m~/Desktop/machine-learning/.venv/lib/python3.11/site-packages/xgboost/core.py:729\u001b[0m, in \u001b[0;36mrequire_keyword_args.<locals>.throw_if.<locals>.inner_f\u001b[0;34m(*args, **kwargs)\u001b[0m\n\u001b[1;32m    727\u001b[0m \u001b[38;5;28;01mfor\u001b[39;00m k, arg \u001b[38;5;129;01min\u001b[39;00m \u001b[38;5;28mzip\u001b[39m(sig\u001b[38;5;241m.\u001b[39mparameters, args):\n\u001b[1;32m    728\u001b[0m     kwargs[k] \u001b[38;5;241m=\u001b[39m arg\n\u001b[0;32m--> 729\u001b[0m \u001b[38;5;28;01mreturn\u001b[39;00m \u001b[43mfunc\u001b[49m\u001b[43m(\u001b[49m\u001b[38;5;241;43m*\u001b[39;49m\u001b[38;5;241;43m*\u001b[39;49m\u001b[43mkwargs\u001b[49m\u001b[43m)\u001b[49m\n",
      "File \u001b[0;32m~/Desktop/machine-learning/.venv/lib/python3.11/site-packages/xgboost/sklearn.py:1515\u001b[0m, in \u001b[0;36mXGBClassifier.fit\u001b[0;34m(self, X, y, sample_weight, base_margin, eval_set, eval_metric, early_stopping_rounds, verbose, xgb_model, sample_weight_eval_set, base_margin_eval_set, feature_weights, callbacks)\u001b[0m\n\u001b[1;32m   1487\u001b[0m (\n\u001b[1;32m   1488\u001b[0m     model,\n\u001b[1;32m   1489\u001b[0m     metric,\n\u001b[0;32m   (...)\u001b[0m\n\u001b[1;32m   1494\u001b[0m     xgb_model, eval_metric, params, early_stopping_rounds, callbacks\n\u001b[1;32m   1495\u001b[0m )\n\u001b[1;32m   1496\u001b[0m train_dmatrix, evals \u001b[38;5;241m=\u001b[39m _wrap_evaluation_matrices(\n\u001b[1;32m   1497\u001b[0m     missing\u001b[38;5;241m=\u001b[39m\u001b[38;5;28mself\u001b[39m\u001b[38;5;241m.\u001b[39mmissing,\n\u001b[1;32m   1498\u001b[0m     X\u001b[38;5;241m=\u001b[39mX,\n\u001b[0;32m   (...)\u001b[0m\n\u001b[1;32m   1512\u001b[0m     feature_types\u001b[38;5;241m=\u001b[39m\u001b[38;5;28mself\u001b[39m\u001b[38;5;241m.\u001b[39mfeature_types,\n\u001b[1;32m   1513\u001b[0m )\n\u001b[0;32m-> 1515\u001b[0m \u001b[38;5;28mself\u001b[39m\u001b[38;5;241m.\u001b[39m_Booster \u001b[38;5;241m=\u001b[39m \u001b[43mtrain\u001b[49m\u001b[43m(\u001b[49m\n\u001b[1;32m   1516\u001b[0m \u001b[43m    \u001b[49m\u001b[43mparams\u001b[49m\u001b[43m,\u001b[49m\n\u001b[1;32m   1517\u001b[0m \u001b[43m    \u001b[49m\u001b[43mtrain_dmatrix\u001b[49m\u001b[43m,\u001b[49m\n\u001b[1;32m   1518\u001b[0m \u001b[43m    \u001b[49m\u001b[38;5;28;43mself\u001b[39;49m\u001b[38;5;241;43m.\u001b[39;49m\u001b[43mget_num_boosting_rounds\u001b[49m\u001b[43m(\u001b[49m\u001b[43m)\u001b[49m\u001b[43m,\u001b[49m\n\u001b[1;32m   1519\u001b[0m \u001b[43m    \u001b[49m\u001b[43mevals\u001b[49m\u001b[38;5;241;43m=\u001b[39;49m\u001b[43mevals\u001b[49m\u001b[43m,\u001b[49m\n\u001b[1;32m   1520\u001b[0m \u001b[43m    \u001b[49m\u001b[43mearly_stopping_rounds\u001b[49m\u001b[38;5;241;43m=\u001b[39;49m\u001b[43mearly_stopping_rounds\u001b[49m\u001b[43m,\u001b[49m\n\u001b[1;32m   1521\u001b[0m \u001b[43m    \u001b[49m\u001b[43mevals_result\u001b[49m\u001b[38;5;241;43m=\u001b[39;49m\u001b[43mevals_result\u001b[49m\u001b[43m,\u001b[49m\n\u001b[1;32m   1522\u001b[0m \u001b[43m    \u001b[49m\u001b[43mobj\u001b[49m\u001b[38;5;241;43m=\u001b[39;49m\u001b[43mobj\u001b[49m\u001b[43m,\u001b[49m\n\u001b[1;32m   1523\u001b[0m \u001b[43m    \u001b[49m\u001b[43mcustom_metric\u001b[49m\u001b[38;5;241;43m=\u001b[39;49m\u001b[43mmetric\u001b[49m\u001b[43m,\u001b[49m\n\u001b[1;32m   1524\u001b[0m \u001b[43m    \u001b[49m\u001b[43mverbose_eval\u001b[49m\u001b[38;5;241;43m=\u001b[39;49m\u001b[43mverbose\u001b[49m\u001b[43m,\u001b[49m\n\u001b[1;32m   1525\u001b[0m \u001b[43m    \u001b[49m\u001b[43mxgb_model\u001b[49m\u001b[38;5;241;43m=\u001b[39;49m\u001b[43mmodel\u001b[49m\u001b[43m,\u001b[49m\n\u001b[1;32m   1526\u001b[0m \u001b[43m    \u001b[49m\u001b[43mcallbacks\u001b[49m\u001b[38;5;241;43m=\u001b[39;49m\u001b[43mcallbacks\u001b[49m\u001b[43m,\u001b[49m\n\u001b[1;32m   1527\u001b[0m \u001b[43m\u001b[49m\u001b[43m)\u001b[49m\n\u001b[1;32m   1529\u001b[0m \u001b[38;5;28;01mif\u001b[39;00m \u001b[38;5;129;01mnot\u001b[39;00m \u001b[38;5;28mcallable\u001b[39m(\u001b[38;5;28mself\u001b[39m\u001b[38;5;241m.\u001b[39mobjective):\n\u001b[1;32m   1530\u001b[0m     \u001b[38;5;28mself\u001b[39m\u001b[38;5;241m.\u001b[39mobjective \u001b[38;5;241m=\u001b[39m params[\u001b[38;5;124m\"\u001b[39m\u001b[38;5;124mobjective\u001b[39m\u001b[38;5;124m\"\u001b[39m]\n",
      "File \u001b[0;32m~/Desktop/machine-learning/.venv/lib/python3.11/site-packages/xgboost/core.py:729\u001b[0m, in \u001b[0;36mrequire_keyword_args.<locals>.throw_if.<locals>.inner_f\u001b[0;34m(*args, **kwargs)\u001b[0m\n\u001b[1;32m    727\u001b[0m \u001b[38;5;28;01mfor\u001b[39;00m k, arg \u001b[38;5;129;01min\u001b[39;00m \u001b[38;5;28mzip\u001b[39m(sig\u001b[38;5;241m.\u001b[39mparameters, args):\n\u001b[1;32m    728\u001b[0m     kwargs[k] \u001b[38;5;241m=\u001b[39m arg\n\u001b[0;32m--> 729\u001b[0m \u001b[38;5;28;01mreturn\u001b[39;00m \u001b[43mfunc\u001b[49m\u001b[43m(\u001b[49m\u001b[38;5;241;43m*\u001b[39;49m\u001b[38;5;241;43m*\u001b[39;49m\u001b[43mkwargs\u001b[49m\u001b[43m)\u001b[49m\n",
      "File \u001b[0;32m~/Desktop/machine-learning/.venv/lib/python3.11/site-packages/xgboost/training.py:181\u001b[0m, in \u001b[0;36mtrain\u001b[0;34m(params, dtrain, num_boost_round, evals, obj, feval, maximize, early_stopping_rounds, evals_result, verbose_eval, xgb_model, callbacks, custom_metric)\u001b[0m\n\u001b[1;32m    179\u001b[0m \u001b[38;5;28;01mif\u001b[39;00m cb_container\u001b[38;5;241m.\u001b[39mbefore_iteration(bst, i, dtrain, evals):\n\u001b[1;32m    180\u001b[0m     \u001b[38;5;28;01mbreak\u001b[39;00m\n\u001b[0;32m--> 181\u001b[0m \u001b[43mbst\u001b[49m\u001b[38;5;241;43m.\u001b[39;49m\u001b[43mupdate\u001b[49m\u001b[43m(\u001b[49m\u001b[43mdtrain\u001b[49m\u001b[43m,\u001b[49m\u001b[43m \u001b[49m\u001b[43mi\u001b[49m\u001b[43m,\u001b[49m\u001b[43m \u001b[49m\u001b[43mobj\u001b[49m\u001b[43m)\u001b[49m\n\u001b[1;32m    182\u001b[0m \u001b[38;5;28;01mif\u001b[39;00m cb_container\u001b[38;5;241m.\u001b[39mafter_iteration(bst, i, dtrain, evals):\n\u001b[1;32m    183\u001b[0m     \u001b[38;5;28;01mbreak\u001b[39;00m\n",
      "File \u001b[0;32m~/Desktop/machine-learning/.venv/lib/python3.11/site-packages/xgboost/core.py:2050\u001b[0m, in \u001b[0;36mBooster.update\u001b[0;34m(self, dtrain, iteration, fobj)\u001b[0m\n\u001b[1;32m   2046\u001b[0m \u001b[38;5;28mself\u001b[39m\u001b[38;5;241m.\u001b[39m_assign_dmatrix_features(dtrain)\n\u001b[1;32m   2048\u001b[0m \u001b[38;5;28;01mif\u001b[39;00m fobj \u001b[38;5;129;01mis\u001b[39;00m \u001b[38;5;28;01mNone\u001b[39;00m:\n\u001b[1;32m   2049\u001b[0m     _check_call(\n\u001b[0;32m-> 2050\u001b[0m         \u001b[43m_LIB\u001b[49m\u001b[38;5;241;43m.\u001b[39;49m\u001b[43mXGBoosterUpdateOneIter\u001b[49m\u001b[43m(\u001b[49m\n\u001b[1;32m   2051\u001b[0m \u001b[43m            \u001b[49m\u001b[38;5;28;43mself\u001b[39;49m\u001b[38;5;241;43m.\u001b[39;49m\u001b[43mhandle\u001b[49m\u001b[43m,\u001b[49m\u001b[43m \u001b[49m\u001b[43mctypes\u001b[49m\u001b[38;5;241;43m.\u001b[39;49m\u001b[43mc_int\u001b[49m\u001b[43m(\u001b[49m\u001b[43miteration\u001b[49m\u001b[43m)\u001b[49m\u001b[43m,\u001b[49m\u001b[43m \u001b[49m\u001b[43mdtrain\u001b[49m\u001b[38;5;241;43m.\u001b[39;49m\u001b[43mhandle\u001b[49m\n\u001b[1;32m   2052\u001b[0m \u001b[43m        \u001b[49m\u001b[43m)\u001b[49m\n\u001b[1;32m   2053\u001b[0m     )\n\u001b[1;32m   2054\u001b[0m \u001b[38;5;28;01melse\u001b[39;00m:\n\u001b[1;32m   2055\u001b[0m     pred \u001b[38;5;241m=\u001b[39m \u001b[38;5;28mself\u001b[39m\u001b[38;5;241m.\u001b[39mpredict(dtrain, output_margin\u001b[38;5;241m=\u001b[39m\u001b[38;5;28;01mTrue\u001b[39;00m, training\u001b[38;5;241m=\u001b[39m\u001b[38;5;28;01mTrue\u001b[39;00m)\n",
      "\u001b[0;31mKeyboardInterrupt\u001b[0m: "
     ]
    }
   ],
   "source": [
    "# Split the data into a pool (unlabeled) and an initial labeled set\n",
    "X_initial, X_pool, y_initial, y_pool = train_test_split(\n",
    "    X_train, y_train, train_size=100, stratify=y_train, random_state=777\n",
    ")\n",
    "\n",
    "model = xgb.XGBClassifier(n_estimators=1000, max_depth=7, learning_rate=0.1, random_state=777)\n",
    "\n",
    "# Train the initial model on the labeled samples\n",
    "model.fit(X_initial, y_initial)\n",
    "\n",
    "# Number of samples to query in each iteration\n",
    "query_size = 10\n",
    "\n",
    "# Calculate initial f1 scores\n",
    "training_f1_initial = f1_score(y_initial, model.predict(X_initial), average='micro')\n",
    "validation_f1_initial = f1_score(y_val, model.predict(X_val), average='micro')  # Assuming y_val and X_val are your validation data\n",
    "\n",
    "print(\"Original model performance: \")\n",
    "print(f\"Training f1 score: {training_f1_initial:.2f}\")\n",
    "print(f\"Validation f1 score: {validation_f1_initial:.2f}\")\n",
    "\n",
    "# Number of iterations\n",
    "num_iterations = (len(X_pool) - len(X_initial)) // query_size\n",
    "\n",
    "for i in range(num_iterations):\n",
    "    # Calculate predicted probabilities for each class\n",
    "    probas = model.predict_proba(X_pool)\n",
    "\n",
    "    # Calculate the least confident score for each sample\n",
    "    least_confident_scores = 1 - np.max(probas, axis=1)\n",
    "\n",
    "    # Select the top 'query_size' samples with the lowest confidence\n",
    "    query_indices = np.argsort(least_confident_scores)[:query_size]\n",
    "\n",
    "    # Label the selected samples and remove them from the pool\n",
    "    X_query = X_pool[query_indices]\n",
    "    y_query = model.predict(X_query)\n",
    "\n",
    "    X_pool = np.delete(X_pool, query_indices, axis=0)\n",
    "    y_pool = np.delete(y_pool, query_indices)\n",
    "\n",
    "    # Add the newly labeled samples to the initial set\n",
    "    X_initial = np.vstack([X_initial, X_query])\n",
    "    y_initial = np.concatenate([y_initial, y_query])\n",
    "\n",
    "    # Retrain the model on the updated labeled set\n",
    "    model.fit(X_initial, y_initial)\n",
    "\n",
    "    # Calculate f1 scores\n",
    "    training_f1 = f1_score(y_initial, model.predict(X_initial), average='micro')\n",
    "    validation_f1 = f1_score(y_val, model.predict(X_val), average='micro')\n",
    "\n",
    "    print(f\"Iteration {i+1} performance:\")\n",
    "    print(f\"Training f1 score: {training_f1:.2f}\")\n",
    "    print(f\"Validation f1 score: {validation_f1:.2f}\")"
   ]
  },
  {
   "cell_type": "markdown",
   "metadata": {
    "id": "YL2Q9CVa26pm"
   },
   "source": [
    "# Showing model performance on testing set"
   ]
  },
  {
   "cell_type": "code",
   "execution_count": null,
   "metadata": {
    "colab": {
     "base_uri": "https://localhost:8080/"
    },
    "executionInfo": {
     "elapsed": 7,
     "status": "ok",
     "timestamp": 1702230076359,
     "user": {
      "displayName": "Ammar Almajed",
      "userId": "02912955514166358537"
     },
     "user_tz": -180
    },
    "id": "ZvaWdaV6q7k_",
    "outputId": "c0b71e8b-a0e8-4da0-dfdc-eceb4eb9d996"
   },
   "outputs": [],
   "source": [
    "def evaluate_model(model,X_test,y_test):\n",
    "    \n",
    "\n",
    "    y_pred = model.predict(X_test)\n",
    "    \n",
    "    test_accuracy = accuracy_score(y_test, y_pred)\n",
    "    print(f\"Final accuracy on the test set: {test_accuracy:.4f}\")\n",
    "\n",
    "    cm = confusion_matrix(np.argmax(y_test, axis=1), np.argmax(y_pred, axis=1))\n",
    "    cm_display = ConfusionMatrixDisplay(confusion_matrix = cm, display_labels = classes)\n",
    "    \n",
    "    print(\"Confusion Matrix:\")\n",
    "    cm_display.plot()\n",
    "    plt.show()\n",
    "    \n",
    "    report = classification_report(y_test, y_pred, target_names=classes)\n",
    "    print(report)"
   ]
  },
  {
   "cell_type": "code",
   "execution_count": null,
   "metadata": {
    "colab": {
     "base_uri": "https://localhost:8080/"
    },
    "executionInfo": {
     "elapsed": 488,
     "status": "ok",
     "timestamp": 1702230444872,
     "user": {
      "displayName": "Ammar Almajed",
      "userId": "02912955514166358537"
     },
     "user_tz": -180
    },
    "id": "7qlAmGI-uDbN",
    "outputId": "065532a4-e60a-46fc-e42b-35cd36837bd4"
   },
   "outputs": [
    {
     "name": "stdout",
     "output_type": "stream",
     "text": [
      "Active Learning RF(Entropy) Model Performance on Testing Set:\n",
      "Final accuracy on the test set: 0.9248\n",
      "Confusion Matrix:\n"
     ]
    },
    {
     "data": {
      "image/png": "[encoded data removed]",
      "text/plain": [
       "<Figure size 640x480 with 2 Axes>"
      ]
     },
     "metadata": {},
     "output_type": "display_data"
    },
    {
     "name": "stdout",
     "output_type": "stream",
     "text": [
      "              precision    recall  f1-score   support\n",
      "\n",
      "    Mercedes       0.94      0.98      0.96       221\n",
      "         BMW       0.70      0.84      0.76        19\n",
      "       Honda       0.86      0.91      0.88        46\n",
      "      Toyota       0.94      0.92      0.93       211\n",
      "         GMC       0.96      0.96      0.96       246\n",
      "        Ford       0.96      0.86      0.90       174\n",
      "\n",
      "   micro avg       0.94      0.93      0.93       917\n",
      "   macro avg       0.89      0.91      0.90       917\n",
      "weighted avg       0.94      0.93      0.93       917\n",
      " samples avg       0.93      0.93      0.93       917\n",
      "\n"
     ]
    },
    {
     "name": "stderr",
     "output_type": "stream",
     "text": [
      "/Users/ammar/Desktop/machine-learning/.venv/lib/python3.11/site-packages/sklearn/metrics/_classification.py:1471: UndefinedMetricWarning: Precision and F-score are ill-defined and being set to 0.0 in samples with no predicted labels. Use `zero_division` parameter to control this behavior.\n",
      "  _warn_prf(average, modifier, msg_start, len(result))\n"
     ]
    }
   ],
   "source": [
    "print('Active Learning RF(Entropy) Model Performance on Testing Set:')\n",
    "evaluate_model(model,X_test,y_test)"
   ]
  },
  {
   "cell_type": "code",
   "execution_count": null,
   "metadata": {},
   "outputs": [],
   "source": []
  }
 ],
 "metadata": {
  "colab": {
   "provenance": []
  },
  "kernelspec": {
   "display_name": "Python 3",
   "language": "python",
   "name": "python3"
  },
  "language_info": {
   "codemirror_mode": {
    "name": "ipython",
    "version": 3
   },
   "file_extension": ".py",
   "mimetype": "text/x-python",
   "name": "python",
   "nbconvert_exporter": "python",
   "pygments_lexer": "ipython3",
   "version": "3.11.1"
  },
  "toc": {
   "base_numbering": 1,
   "nav_menu": {},
   "number_sections": true,
   "sideBar": true,
   "skip_h1_title": false,
   "title_cell": "Table of Contents",
   "title_sidebar": "Contents",
   "toc_cell": false,
   "toc_position": {},
   "toc_section_display": true,
   "toc_window_display": false
  }
 },
 "nbformat": 4,
 "nbformat_minor": 1
}
