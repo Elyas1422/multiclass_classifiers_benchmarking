{
 "cells": [
  {
   "cell_type": "code",
   "execution_count": 1,
   "metadata": {},
   "outputs": [
    {
     "name": "stdout",
     "output_type": "stream",
     "text": [
      "WARNING:tensorflow:From c:\\Users\\ammar\\OneDrive\\Desktop\\ICS 485 project\\machine-learning\\.venv\\lib\\site-packages\\keras\\src\\losses.py:2976: The name tf.losses.sparse_softmax_cross_entropy is deprecated. Please use tf.compat.v1.losses.sparse_softmax_cross_entropy instead.\n",
      "\n"
     ]
    }
   ],
   "source": [
    "import pandas as pd\n",
    "import matplotlib.pyplot as plt\n",
    "import seaborn as sns\n",
    "from IPython.display import display\n",
    "from sklearn.metrics import accuracy_score, confusion_matrix, ConfusionMatrixDisplay, classification_report\n",
    "import re\n",
    "import tensorflow as tf\n",
    "from keras.callbacks import Callback, EarlyStopping\n",
    "import numpy as np"
   ]
  },
  {
   "cell_type": "code",
   "execution_count": null,
   "metadata": {},
   "outputs": [],
   "source": [
    "MY_PC = '.'\n",
    "MY_DRIVE = '/content/drive/MyDrive/KFUPM/ICS485 Machine Learning/machine-learning'\n",
    "\n",
    "\n",
    "working_on = MY_PC"
   ]
  },
  {
   "cell_type": "markdown",
   "metadata": {},
   "source": [
    "# Reading the data"
   ]
  },
  {
   "cell_type": "code",
   "execution_count": null,
   "metadata": {},
   "outputs": [],
   "source": [
    "train_data = pd.read_csv(working_on + \"/preprocessed_data/train_data.csv\")\n",
    "val_data = pd.read_csv(working_on + \"/preprocessed_data/val_data.csv\")\n",
    "test_data = pd.read_csv(working_on + \"/preprocessed_data/test_data.csv\")"
   ]
  },
  {
   "cell_type": "code",
   "execution_count": null,
   "metadata": {},
   "outputs": [],
   "source": [
    "train_data.head()"
   ]
  },
  {
   "cell_type": "code",
   "execution_count": null,
   "metadata": {},
   "outputs": [],
   "source": [
    "def display_dataframe_summary(dataframe, sort_by='Column'):\n",
    "\n",
    "    summary = pd.DataFrame({\n",
    "        'Column': dataframe.columns,\n",
    "        'Non-Null Count': dataframe.notnull().sum(),\n",
    "        'Dtype': dataframe.dtypes,\n",
    "        'Unique Values': dataframe.nunique()\n",
    "    })\n",
    "\n",
    "    # Extracting numerical part from column names for sorting\n",
    "    summary['Sort Key'] = summary['Column'].apply(lambda x: int(re.search(r'\\d+', x).group()) if re.search(r'\\d+', x) else 0)\n",
    "\n",
    "    # Sorting the summary DataFrame\n",
    "    if sort_by == 'Column':\n",
    "        summary = summary.sort_values(by='Sort Key', ascending=True)\n",
    "    else:\n",
    "        summary = summary.sort_values(by=sort_by, ascending=True)\n",
    "\n",
    "    summary = summary.drop('Sort Key', axis=1)  # Remove the auxiliary sort key column\n",
    "\n",
    "    # Display the summary\n",
    "    display(summary)\n",
    "\n",
    "    # Plotting missing data\n",
    "    plt.figure(figsize=(10, 6))\n",
    "    sns.heatmap(dataframe.isnull(), yticklabels=False, cbar=False, cmap='viridis')\n",
    "    plt.title('Missing Data in DataFrame')\n",
    "    plt.show()\n",
    "\n",
    "# Call the function with your DataFrame\n",
    "display_dataframe_summary(train_data, sort_by='Column')\n"
   ]
  },
  {
   "cell_type": "code",
   "execution_count": null,
   "metadata": {},
   "outputs": [],
   "source": [
    "X_train = train_data.drop('Y', axis=1).to_numpy()\n",
    "y_train = train_data['Y'].to_numpy()\n",
    "\n",
    "X_val = val_data.drop('Y', axis=1).to_numpy()\n",
    "y_val = val_data['Y'].to_numpy()\n",
    "\n",
    "X_test = test_data.drop('Y', axis=1).to_numpy()\n",
    "y_test = test_data['Y'].to_numpy()\n"
   ]
  },
  {
   "cell_type": "code",
   "execution_count": null,
   "metadata": {},
   "outputs": [],
   "source": [
    "classes = train_data[\"Y\"].unique()\n",
    "num_classes = len(classes)\n",
    "input_features = X_train.shape[1]\n",
    "categorical_cols = train_data.select_dtypes(include=['object', 'category']).columns\n",
    "\n",
    "print(f\"The classes is: {classes}\")\n",
    "print(f\"Number of classes: {num_classes}\")\n",
    "print(f\"Number of features: {input_features}\")\n",
    "print(f\"X_train shape: {X_train.shape}, y_train shape: {y_train.shape}\" )\n",
    "\n",
    "print(categorical_cols)"
   ]
  },
  {
   "cell_type": "markdown",
   "metadata": {},
   "source": [
    "# Building Model"
   ]
  },
  {
   "cell_type": "code",
   "execution_count": null,
   "metadata": {},
   "outputs": [],
   "source": []
  },
  {
   "cell_type": "markdown",
   "metadata": {},
   "source": [
    "# Best Setting"
   ]
  },
  {
   "cell_type": "code",
   "execution_count": null,
   "metadata": {},
   "outputs": [],
   "source": []
  },
  {
   "cell_type": "markdown",
   "metadata": {},
   "source": [
    "# Testing"
   ]
  },
  {
   "cell_type": "markdown",
   "metadata": {},
   "source": []
  }
 ],
 "metadata": {
  "kernelspec": {
   "display_name": ".venv",
   "language": "python",
   "name": "python3"
  },
  "language_info": {
   "codemirror_mode": {
    "name": "ipython",
    "version": 3
   },
   "file_extension": ".py",
   "mimetype": "text/x-python",
   "name": "python",
   "nbconvert_exporter": "python",
   "pygments_lexer": "ipython3",
   "version": "3.10.0"
  }
 },
 "nbformat": 4,
 "nbformat_minor": 2
}
