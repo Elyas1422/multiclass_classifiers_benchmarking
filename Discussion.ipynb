{
 "cells": [
  {
   "cell_type": "markdown",
   "metadata": {},
   "source": [
    "# Summary and Discussion\n",
    "\n",
    "We evaluated the performance of various machine learning models, including Active Learning XGBoost, Random Forest, XGBoost, SVM, DT, NN, Adaboost, and Logistic Regression.\n",
    "\n",
    "| Model                  | Accuracy | Precision (Macro) | Recall (Macro) | F1-Score (Macro) | Precision (Weighted) | Recall (Weighted) | F1-Score (Weighted) |\n",
    "|------------------------|----------|--------------------|-----------------|-------------------|----------------------|-------------------|----------------------|\n",
    "| Active learning XGBoost| 0.94     | 0.93               | 0.94            | 0.94              | 0.95                 | 0.94              | 0.94                 |\n",
    "| Random Forest          | 0.94     | 0.93               | 0.86            | 0.88              | 0.94                 | 0.94              | 0.94                 |\n",
    "| XGBoost                | 0.93     | 0.88               | 0.91            | 0.90              | 0.93                 | 0.93              | 0.93                 |\n",
    "| SVM                    | 0.92     | 0.88               | 0.89            | 0.88              | 0.92                 | 0.92              | 0.91                 |\n",
    "| DT                     | 0.92     | 0.87               | 0.89            | 0.88              | 0.92                 | 0.92              | 0.92                 |\n",
    "| NN                     | 0.90     | 0.83               | 0.82            | 0.82              | 0.90                 | 0.90              | 0.90                 |\n",
    "| Adaboost               | 0.84     | 0.82               | 0.83            | 0.82              | 0.85                 | 0.84              | 0.84                 |\n",
    "| Logistic Regression    | 0.84     | 0.77               | 0.75            | 0.76              | 0.84                 | 0.84              | 0.84                 |\n",
    "\n",
    "**Overall Observation**:\n",
    "\n",
    "- **Active Learning XGBoost** and **Random Forest** lead in accuracy, achieving 94%.\n",
    "- **XGBoost** without active learning follows closely with an accuracy of 93%.\n",
    "- **SVM, DT, and NN** maintain strong performances with accuracies around 92%.\n",
    "- **Logistic Regression, and Adaboost** remain the lowest performers with an accuracy of 84%.\n",
    "\n",
    "In conclusion, considering accuracy and balanced metrics, **Active Learning XGBoost** and **Random Forest** stand out as the top-performing models for this classification task.\n"
   ]
  }
 ],
 "metadata": {
  "kernelspec": {
   "display_name": "Python 3",
   "language": "python",
   "name": "python3"
  },
  "language_info": {
   "codemirror_mode": {
    "name": "ipython",
    "version": 3
   },
   "file_extension": ".py",
   "mimetype": "text/x-python",
   "name": "python",
   "nbconvert_exporter": "python",
   "pygments_lexer": "ipython3",
   "version": "3.8.3"
  },
  "toc": {
   "base_numbering": 1,
   "nav_menu": {},
   "number_sections": true,
   "sideBar": true,
   "skip_h1_title": false,
   "title_cell": "Table of Contents",
   "title_sidebar": "Contents",
   "toc_cell": false,
   "toc_position": {},
   "toc_section_display": true,
   "toc_window_display": false
  }
 },
 "nbformat": 4,
 "nbformat_minor": 4
}
