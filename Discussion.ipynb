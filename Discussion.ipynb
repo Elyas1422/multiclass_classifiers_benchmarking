{
 "cells": [
  {
   "cell_type": "markdown",
   "metadata": {},
   "source": [
    "# Summary and Discussion\n",
    "\n",
    "## preprocessing done\n",
    "* splitting data into train, val, test (0.7, 0.15, 0.15) with random seed 777\n",
    "* filling numerical columns with the mean\n",
    "* Stander normlizaion on the numerical columns\n",
    "* filling categorical columns using semi-supervised learning (Imputation with semi supervised learning)\n",
    "* Upsampling the classes\n",
    "* encoding categorical variables to numeric values (one hot encoding)\n",
    "* Feature selection\n",
    "\n",
    "\n",
    "\n",
    "\n",
    "\n",
    "\n",
    "## Results\n",
    "We evaluated the performance of various machine learning models, including Active Learning XGBoost, Random Forest, XGBoost, SVM, DT, NN, Adaboost, and Logistic Regression.\n",
    "\n",
    "| Model                  | Accuracy | F1-Score (Macro)   |\n",
    "|------------------------|----------|--------------------|\n",
    "| XGBoost                | 0.92     | 0.93               |\n",
    "| Random Forest          | 0.93     | 0.90               |\n",
    "| SVM                    | 0.93     | 0.89               |\n",
    "| NN                     | 0.90     | 0.88               | \n",
    "| DT                     | 0.89     | 0.86               |\n",
    "| Adaboost               | 0.84     | 0.82               | \n",
    "| Logistic Regression    | 0.82     | 0.79               | \n",
    "| AL XGB uncertainty sampling| 0.75 |\n",
    "| AL XGB entropy sampling| 0.74     |\n",
    "\n",
    "\n",
    "**Overall Observation**:\n",
    "\n",
    "- **Active Learning XGBoost** and **Random Forest** lead in accuracy, achieving 94%.\n",
    "- **XGBoost** without active learning follows closely with an accuracy of 93%.\n",
    "- **SVM, DT, and NN** maintain strong performances with accuracies around 92%.\n",
    "- **Logistic Regression, and Adaboost** remain the lowest performers with an accuracy of 84%.\n",
    "\n",
    "In conclusion, considering accuracy and balanced metrics, **Active Learning XGBoost** and **Random Forest** stand out as the top-performing models for this classification task.\n"
   ]
  },
  {
   "cell_type": "markdown",
   "metadata": {},
   "source": []
  }
 ],
 "metadata": {
  "kernelspec": {
   "display_name": "Python 3",
   "language": "python",
   "name": "python3"
  },
  "language_info": {
   "codemirror_mode": {
    "name": "ipython",
    "version": 3
   },
   "file_extension": ".py",
   "mimetype": "text/x-python",
   "name": "python",
   "nbconvert_exporter": "python",
   "pygments_lexer": "ipython3",
   "version": "3.8.3"
  },
  "toc": {
   "base_numbering": 1,
   "nav_menu": {},
   "number_sections": true,
   "sideBar": true,
   "skip_h1_title": false,
   "title_cell": "Table of Contents",
   "title_sidebar": "Contents",
   "toc_cell": false,
   "toc_position": {},
   "toc_section_display": true,
   "toc_window_display": false
  }
 },
 "nbformat": 4,
 "nbformat_minor": 4
}
