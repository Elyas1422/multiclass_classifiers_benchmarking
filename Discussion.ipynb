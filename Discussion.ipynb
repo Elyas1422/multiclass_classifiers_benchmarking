{
 "cells": [
  {
   "cell_type": "markdown",
   "metadata": {},
   "source": [
    "# Summary and Discussion\n",
    "\n",
    "We evaluated the performance of various machine learning models, including Active Learning XGBoost, Random Forest, XGBoost, SVM, DT, NN, and Logistic Regression.\n",
    "\n",
    "| Model                  | Accuracy | F1-Score (Macro) | Precision (Macro) | Recall (Macro) | F1-Score (Weighted) | Precision (Weighted) | Recall (Weighted) |\n",
    "|------------------------|----------|-------------------|---------------------|-----------------|----------------------|-----------------------|-------------------|\n",
    "| Active Learning XGBoost | 94%      | 94%               | 93%                 | 94%             | 94%                  | 95%                   | 94%               |\n",
    "| Random Forest          | 94%      | 88%               | 93%                 | 86%             | 94%                  | 94%                   | 94%               |\n",
    "| XGBoost                | 93%      | 90%               | 88%                 | 91%             | 93%                  | 93%                   | 93%               |\n",
    "| SVM                    | 92%      | 88%               | 88%                 | 89%             | 91%                  | 92%                   | 92%               |\n",
    "| DT                     | 92%      | 88%               | 87%                 | 89%             | 92%                  | 92%                   | 92%               |\n",
    "| NN                     | 90%      | 82%               | 83%                 | 82%             | 90%                  | 90%                   | 90%               |\n",
    "| Logistic Regression    | 84%      | 76%               | 77%                 | 75%             | 84%                  | 84%                   | 84%               |\n",
    "\n",
    "**Overall Observation**:\n",
    "\n",
    "- **Active Learning XGBoost** and **Random Forest** lead in accuracy, achieving 94%.\n",
    "- **XGBoost** without active learning follows closely with an accuracy of 93%.\n",
    "- **SVM, DT, and NN** maintain strong performances with accuracies around 92%.\n",
    "- **Logistic Regression** remains the lowest performer with an accuracy of 84%.\n",
    "\n",
    "In conclusion, considering accuracy and balanced metrics, **Active Learning XGBoost** and **Random Forest** stand out as the top-performing models for this classification task.\n"
   ]
  }
 ],
 "metadata": {
  "kernelspec": {
   "display_name": "Python 3",
   "language": "python",
   "name": "python3"
  },
  "language_info": {
   "codemirror_mode": {
    "name": "ipython",
    "version": 3
   },
   "file_extension": ".py",
   "mimetype": "text/x-python",
   "name": "python",
   "nbconvert_exporter": "python",
   "pygments_lexer": "ipython3",
   "version": "3.8.3"
  },
  "toc": {
   "base_numbering": 1,
   "nav_menu": {},
   "number_sections": true,
   "sideBar": true,
   "skip_h1_title": false,
   "title_cell": "Table of Contents",
   "title_sidebar": "Contents",
   "toc_cell": false,
   "toc_position": {},
   "toc_section_display": true,
   "toc_window_display": false
  }
 },
 "nbformat": 4,
 "nbformat_minor": 4
}
